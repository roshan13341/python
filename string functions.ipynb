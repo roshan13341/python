{
 "cells": [
  {
   "cell_type": "code",
   "execution_count": 24,
   "metadata": {},
   "outputs": [
    {
     "name": "stdout",
     "output_type": "stream",
     "text": [
      "True\n",
      "False\n",
      "True\n",
      "True\n",
      "False\n",
      "JUPITER\n",
      "CS4\n",
      "cs4\n",
      "jupiter\n",
      "Cs4\n",
      "False\n",
      "False\n",
      "JUPITER\n",
      "CS4\n",
      "False\n"
     ]
    }
   ],
   "source": [
    "s=\"jupiter\"\n",
    "s1=\"cs4\"\n",
    "print(s.isalpha())\n",
    "print(s1.isalpha())\n",
    "print(s.islower())\n",
    "print(s1.islower())\n",
    "print(s.isupper())\n",
    "print(s.upper())\n",
    "print(s1.upper())\n",
    "print(s1.lower())\n",
    "print(s.lower())\n",
    "print(s1.title())\n",
    "print(s1.isupper())\n",
    "print(s.isnumeric())\n",
    "print(s.swapcase())\n",
    "print(s1.swapcase())\n",
    "print(s1.isspace())"
   ]
  },
  {
   "cell_type": "code",
   "execution_count": 16,
   "metadata": {
    "scrolled": true
   },
   "outputs": [
    {
     "name": "stdout",
     "output_type": "stream",
     "text": [
      "jupitermars\n"
     ]
    }
   ],
   "source": [
    "s=\"jupiter\"\n",
    "print(\"+\".join([\"jupiter\"\"mars\"]))"
   ]
  },
  {
   "cell_type": "code",
   "execution_count": 17,
   "metadata": {
    "scrolled": true
   },
   "outputs": [
    {
     "name": "stdout",
     "output_type": "stream",
     "text": [
      "['j', 'u', 'p', 'i', 't', 'e', 'r']\n"
     ]
    }
   ],
   "source": [
    "s=\"jupiter\"\n",
    "lst=list(s)\n",
    "print(lst)"
   ]
  },
  {
   "cell_type": "code",
   "execution_count": 19,
   "metadata": {
    "scrolled": true
   },
   "outputs": [
    {
     "name": "stdout",
     "output_type": "stream",
     "text": [
      "sreekar is autowala\n"
     ]
    }
   ],
   "source": [
    "s=\"Roshan is autowala\"\n",
    "print(s.replace(\"Roshan\",\"sreekar\"))"
   ]
  },
  {
   "cell_type": "code",
   "execution_count": 10,
   "metadata": {},
   "outputs": [
    {
     "name": "stdout",
     "output_type": "stream",
     "text": [
      "h\n",
      "15\n",
      "hellWrld"
     ]
    }
   ],
   "source": [
    "b=\"h0e0l0l0W00r0ld\"\n",
    "print(b[0])\n",
    "print(len(b))\n",
    "for i in range(len(b)):\n",
    "    if(b[i].isalpha()==True):\n",
    "        print(b[i],end=\"\");\n"
   ]
  },
  {
   "cell_type": "code",
   "execution_count": 20,
   "metadata": {
    "scrolled": true
   },
   "outputs": [
    {
     "name": "stdout",
     "output_type": "stream",
     "text": [
      "roshan=>sate=>sreekar=>mohit=>churi=>sandeep=>('roshan', 'sate', 'sreekar', 'mohit', 'churi', 'sandeep', 'roshan', 'sate', 'sreekar', 'mohit', 'churi', 'sandeep')\n",
      "12\n"
     ]
    }
   ],
   "source": [
    "t1=(\"roshan\",\"sate\",\"sreekar\",\"mohit\",\"churi\",\"sandeep\")\n",
    "\n",
    "for i in range(len(t1)):\n",
    "    print(t1[i],end=\"=>\")\n",
    "t2=(\"roshan\",\"sate\",\"sreekar\",\"mohit\",\"churi\",\"sandeep\")\n",
    "t3=t1+t2\n",
    "print(t3)\n",
    "print(len(t3))"
   ]
  },
  {
   "cell_type": "code",
   "execution_count": 21,
   "metadata": {},
   "outputs": [
    {
     "data": {
      "text/plain": [
       "7"
      ]
     },
     "execution_count": 21,
     "metadata": {},
     "output_type": "execute_result"
    }
   ],
   "source": [
    "t1=(1,2,3,4,5,6,7)\n",
    "max(t1)"
   ]
  },
  {
   "cell_type": "code",
   "execution_count": 26,
   "metadata": {},
   "outputs": [
    {
     "data": {
      "text/plain": [
       "'a'"
      ]
     },
     "execution_count": 26,
     "metadata": {},
     "output_type": "execute_result"
    }
   ],
   "source": [
    "t6=(\"roshan\",\"sate\",\"sreekar\",\"mohit\",\"churi\",\"sandeep\",\"a\")\n",
    "max(t6)\n",
    "min(t6)"
   ]
  },
  {
   "cell_type": "code",
   "execution_count": 27,
   "metadata": {},
   "outputs": [
    {
     "name": "stdout",
     "output_type": "stream",
     "text": [
      "('roshan', 'sate', 'sreekar', 'mohit', 'churi', 'sandeep', 'a')\n"
     ]
    }
   ],
   "source": [
    "l=[\"roshan\",\"sate\",\"sreekar\",\"mohit\",\"churi\",\"sandeep\",\"a\"]\n",
    "t1=tuple(l)\n",
    "print (t1)"
   ]
  },
  {
   "cell_type": "code",
   "execution_count": 47,
   "metadata": {},
   "outputs": [
    {
     "name": "stdout",
     "output_type": "stream",
     "text": [
      "user1[NAME]= roshan\n",
      "user1[EMAIL-ID]= roshan13341@gmail.com\n",
      "user1[AGE]= 19\n",
      "user1[MOBILE-NUMBER]= 9515881637\n",
      "4\n",
      "{'NAME': 'roshan', 'AGE': '19', 'MOBILE-NUMBER': '9515881637'}\n",
      "3\n",
      "4\n",
      "{'NAME': 'roshan', 'AGE': '19', 'MOBILE-NUMBER': '9515881637', 'address': 'mehdipatnam'}\n",
      "dict_values(['roshan', '19', '9515881637', 'mehdipatnam'])\n",
      "dict_items([('NAME', 'roshan'), ('AGE', '19'), ('MOBILE-NUMBER', '9515881637'), ('address', 'mehdipatnam')])\n"
     ]
    }
   ],
   "source": [
    "user1={'NAME':'Roshan','AGE':'19','EMAIL-ID':'roshan13341@gmail.com','MOBILE-NUMBER':'9515881637'}\n",
    "user1['NAME']='roshan'\n",
    "print(\"user1[NAME]=\",user1['NAME'])\n",
    "print(\"user1[EMAIL-ID]=\",user1['EMAIL-ID'])\n",
    "print(\"user1[AGE]=\",user1['AGE'])\n",
    "print(\"user1[MOBILE-NUMBER]=\",user1['MOBILE-NUMBER'])\n",
    "print(len(user1))\n",
    "del user1['EMAIL-ID']\n",
    "print(user1)\n",
    "print(len(user1))\n",
    "user1['address']='mehdipatnam'\n",
    "print(len(user1))\n",
    "user2=user1.copy()\n",
    "print(user2)\n",
    "print(user2.values())\n",
    "print(user2.items())"
   ]
  },
  {
   "cell_type": "code",
   "execution_count": 56,
   "metadata": {},
   "outputs": [
    {
     "name": "stdout",
     "output_type": "stream",
     "text": [
      "NAME\n",
      "NAME\n"
     ]
    }
   ],
   "source": [
    "user1={'NAME':'Roshan','AGE':'19','EMAIL-ID':'roshan13341@gmail.com','MOBILE-NUMBER':'9515881637'}\n",
    "lst=list(user1)\n",
    "print(lst[0])\n",
    "print(\"{0}\".format(lst[0]))"
   ]
  },
  {
   "cell_type": "code",
   "execution_count": 53,
   "metadata": {},
   "outputs": [
    {
     "name": "stdout",
     "output_type": "stream",
     "text": [
      "True\n"
     ]
    }
   ],
   "source": [
    "print('Hello!2@#World'.istitle()) "
   ]
  },
  {
   "cell_type": "code",
   "execution_count": 54,
   "metadata": {},
   "outputs": [
    {
     "name": "stdout",
     "output_type": "stream",
     "text": [
      "['ab', 'ef', 'ghcd']\n"
     ]
    }
   ],
   "source": [
    "print('abcdefcdghcd'.split('cd', 2))"
   ]
  },
  {
   "cell_type": "code",
   "execution_count": 55,
   "metadata": {},
   "outputs": [
    {
     "name": "stdout",
     "output_type": "stream",
     "text": [
      "False\n"
     ]
    }
   ],
   "source": [
    "print('1.1'.isnumeric()) "
   ]
  },
  {
   "cell_type": "code",
   "execution_count": null,
   "metadata": {},
   "outputs": [],
   "source": []
  }
 ],
 "metadata": {
  "kernelspec": {
   "display_name": "Python 3",
   "language": "python",
   "name": "python3"
  },
  "language_info": {
   "codemirror_mode": {
    "name": "ipython",
    "version": 3
   },
   "file_extension": ".py",
   "mimetype": "text/x-python",
   "name": "python",
   "nbconvert_exporter": "python",
   "pygments_lexer": "ipython3",
   "version": "3.7.3"
  }
 },
 "nbformat": 4,
 "nbformat_minor": 2
}
