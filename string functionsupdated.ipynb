{
 "cells": [
  {
   "cell_type": "code",
   "execution_count": 24,
   "metadata": {},
   "outputs": [
    {
     "name": "stdout",
     "output_type": "stream",
     "text": [
      "True\n",
      "False\n",
      "True\n",
      "True\n",
      "False\n",
      "JUPITER\n",
      "CS4\n",
      "cs4\n",
      "jupiter\n",
      "Cs4\n",
      "False\n",
      "False\n",
      "JUPITER\n",
      "CS4\n",
      "False\n"
     ]
    }
   ],
   "source": [
    "s=\"jupiter\"\n",
    "s1=\"cs4\"\n",
    "print(s.isalpha())\n",
    "print(s1.isalpha())\n",
    "print(s.islower())\n",
    "print(s1.islower())\n",
    "print(s.isupper())\n",
    "print(s.upper())\n",
    "print(s1.upper())\n",
    "print(s1.lower())\n",
    "print(s.lower())\n",
    "print(s1.title())\n",
    "print(s1.isupper())\n",
    "print(s.isnumeric())\n",
    "print(s.swapcase())\n",
    "print(s1.swapcase())\n",
    "print(s1.isspace())"
   ]
  },
  {
   "cell_type": "code",
   "execution_count": 16,
   "metadata": {
    "scrolled": true
   },
   "outputs": [
    {
     "name": "stdout",
     "output_type": "stream",
     "text": [
      "jupitermars\n"
     ]
    }
   ],
   "source": [
    "s=\"jupiter\"\n",
    "print(\"+\".join([\"jupiter\"\"mars\"]))"
   ]
  },
  {
   "cell_type": "code",
   "execution_count": 17,
   "metadata": {
    "scrolled": true
   },
   "outputs": [
    {
     "name": "stdout",
     "output_type": "stream",
     "text": [
      "['j', 'u', 'p', 'i', 't', 'e', 'r']\n"
     ]
    }
   ],
   "source": [
    "s=\"jupiter\"\n",
    "lst=list(s)\n",
    "print(lst)"
   ]
  },
  {
   "cell_type": "code",
   "execution_count": 19,
   "metadata": {
    "scrolled": true
   },
   "outputs": [
    {
     "name": "stdout",
     "output_type": "stream",
     "text": [
      "sreekar is autowala\n"
     ]
    }
   ],
   "source": [
    "s=\"Roshan is autowala\"\n",
    "print(s.replace(\"Roshan\",\"sreekar\"))"
   ]
  },
  {
   "cell_type": "code",
   "execution_count": 10,
   "metadata": {},
   "outputs": [
    {
     "name": "stdout",
     "output_type": "stream",
     "text": [
      "h\n",
      "15\n",
      "hellWrld"
     ]
    }
   ],
   "source": [
    "b=\"h0e0l0l0W00r0ld\"\n",
    "print(b[0])\n",
    "print(len(b))\n",
    "for i in range(len(b)):\n",
    "    if(b[i].isalpha()==True):\n",
    "        print(b[i],end=\"\");\n"
   ]
  },
  {
   "cell_type": "code",
   "execution_count": 20,
   "metadata": {
    "scrolled": true
   },
   "outputs": [
    {
     "name": "stdout",
     "output_type": "stream",
     "text": [
      "roshan=>sate=>sreekar=>mohit=>churi=>sandeep=>('roshan', 'sate', 'sreekar', 'mohit', 'churi', 'sandeep', 'roshan', 'sate', 'sreekar', 'mohit', 'churi', 'sandeep')\n",
      "12\n"
     ]
    }
   ],
   "source": [
    "t1=(\"roshan\",\"sate\",\"sreekar\",\"mohit\",\"churi\",\"sandeep\")\n",
    "\n",
    "for i in range(len(t1)):\n",
    "    print(t1[i],end=\"=>\")\n",
    "t2=(\"roshan\",\"sate\",\"sreekar\",\"mohit\",\"churi\",\"sandeep\")\n",
    "t3=t1+t2\n",
    "print(t3)\n",
    "print(len(t3))"
   ]
  },
  {
   "cell_type": "code",
   "execution_count": 64,
   "metadata": {},
   "outputs": [
    {
     "name": "stdout",
     "output_type": "stream",
     "text": [
      "False\n"
     ]
    },
    {
     "data": {
      "text/plain": [
       "7"
      ]
     },
     "execution_count": 64,
     "metadata": {},
     "output_type": "execute_result"
    }
   ],
   "source": [
    "t1=(1,2,3,4,5,6,7)\n",
    "print (1 not in (t1))\n",
    "max(t1)"
   ]
  },
  {
   "cell_type": "code",
   "execution_count": 26,
   "metadata": {},
   "outputs": [
    {
     "data": {
      "text/plain": [
       "'a'"
      ]
     },
     "execution_count": 26,
     "metadata": {},
     "output_type": "execute_result"
    }
   ],
   "source": [
    "t6=(\"roshan\",\"sate\",\"sreekar\",\"mohit\",\"churi\",\"sandeep\",\"a\")\n",
    "max(t6)\n",
    "min(t6)"
   ]
  },
  {
   "cell_type": "code",
   "execution_count": 27,
   "metadata": {},
   "outputs": [
    {
     "name": "stdout",
     "output_type": "stream",
     "text": [
      "('roshan', 'sate', 'sreekar', 'mohit', 'churi', 'sandeep', 'a')\n"
     ]
    }
   ],
   "source": [
    "l=[\"roshan\",\"sate\",\"sreekar\",\"mohit\",\"churi\",\"sandeep\",\"a\"]\n",
    "t1=tuple(l)\n",
    "print (t1)"
   ]
  },
  {
   "cell_type": "code",
   "execution_count": 47,
   "metadata": {},
   "outputs": [
    {
     "name": "stdout",
     "output_type": "stream",
     "text": [
      "user1[NAME]= roshan\n",
      "user1[EMAIL-ID]= roshan13341@gmail.com\n",
      "user1[AGE]= 19\n",
      "user1[MOBILE-NUMBER]= 9515881637\n",
      "4\n",
      "{'NAME': 'roshan', 'AGE': '19', 'MOBILE-NUMBER': '9515881637'}\n",
      "3\n",
      "4\n",
      "{'NAME': 'roshan', 'AGE': '19', 'MOBILE-NUMBER': '9515881637', 'address': 'mehdipatnam'}\n",
      "dict_values(['roshan', '19', '9515881637', 'mehdipatnam'])\n",
      "dict_items([('NAME', 'roshan'), ('AGE', '19'), ('MOBILE-NUMBER', '9515881637'), ('address', 'mehdipatnam')])\n"
     ]
    }
   ],
   "source": [
    "user1={'NAME':'Roshan','AGE':'19','EMAIL-ID':'roshan13341@gmail.com','MOBILE-NUMBER':'9515881637'}\n",
    "user1['NAME']='roshan'\n",
    "print(\"user1[NAME]=\",user1['NAME'])\n",
    "print(\"user1[EMAIL-ID]=\",user1['EMAIL-ID'])\n",
    "print(\"user1[AGE]=\",user1['AGE'])\n",
    "print(\"user1[MOBILE-NUMBER]=\",user1['MOBILE-NUMBER'])\n",
    "print(len(user1))\n",
    "del user1['EMAIL-ID']\n",
    "print(user1)\n",
    "print(len(user1))\n",
    "user1['address']='mehdipatnam'\n",
    "print(len(user1))\n",
    "user2=user1.copy()\n",
    "print(user2)\n",
    "print(user2.values())\n",
    "print(user2.items())"
   ]
  },
  {
   "cell_type": "code",
   "execution_count": 56,
   "metadata": {},
   "outputs": [
    {
     "name": "stdout",
     "output_type": "stream",
     "text": [
      "NAME\n",
      "NAME\n"
     ]
    }
   ],
   "source": [
    "user1={'NAME':'Roshan','AGE':'19','EMAIL-ID':'roshan13341@gmail.com','MOBILE-NUMBER':'9515881637'}\n",
    "lst=list(user1)\n",
    "print(lst[0])\n",
    "print(\"{0}\".format(lst[0]))"
   ]
  },
  {
   "cell_type": "code",
   "execution_count": 53,
   "metadata": {},
   "outputs": [
    {
     "name": "stdout",
     "output_type": "stream",
     "text": [
      "True\n"
     ]
    }
   ],
   "source": [
    "print('Hello!2@#World'.istitle()) "
   ]
  },
  {
   "cell_type": "code",
   "execution_count": 54,
   "metadata": {},
   "outputs": [
    {
     "name": "stdout",
     "output_type": "stream",
     "text": [
      "['ab', 'ef', 'ghcd']\n"
     ]
    }
   ],
   "source": [
    "print('abcdefcdghcd'.split('cd', 2))"
   ]
  },
  {
   "cell_type": "code",
   "execution_count": 55,
   "metadata": {},
   "outputs": [
    {
     "name": "stdout",
     "output_type": "stream",
     "text": [
      "False\n"
     ]
    }
   ],
   "source": [
    "print('1.1'.isnumeric()) "
   ]
  },
  {
   "cell_type": "code",
   "execution_count": 111,
   "metadata": {},
   "outputs": [
    {
     "name": "stdout",
     "output_type": "stream",
     "text": [
      "contact roshan added\n",
      "contact sate added\n",
      "contact mohit added\n",
      "contact Roshan alreaady exists\n",
      "contact sreekar added\n",
      "person with these name found\n",
      "person with this name doesn't exist\n",
      "roshan ;sate ;mohit ;sreekar ;1 contacts added successfully\n",
      "deleted\n",
      "Anil not exists in contacts\n",
      "harsha not exists in contacts\n"
     ]
    }
   ],
   "source": [
    "contacts={}\n",
    "def addcontact(name,phone):\n",
    "    if name.upper() and name.lower() not in contacts:\n",
    "    \n",
    "        contacts[name]=phone\n",
    "        print(\"contact %s added\" % name)\n",
    "    else:\n",
    "        print(\"contact %s alreaady exists\" % name)\n",
    "    return\n",
    "\n",
    "addcontact(\"roshan\",9515881637)\n",
    "addcontact(\"sate\",9000492323)\n",
    "addcontact(\"mohit\",7729818289)\n",
    "addcontact(\"Roshan\",9515881637)\n",
    "addcontact(\"sreekar\",9989678084)\n",
    "def searchcontact(name):\n",
    "    if name.upper() and name.lower() in contacts:\n",
    "        print(\"person with these name found\")\n",
    "    else:\n",
    "        print(\"person with this name doesn't exist\")\n",
    "    return\n",
    "\n",
    "searchcontact(\"roShan\")\n",
    "searchcontact(\"surya\")\n",
    "lst=list(contacts)\n",
    "for i in range(len(lst)):\n",
    "    print(lst[i],end=\" ;\")\n",
    "def importcontacts(newcontact):\n",
    "    contacts.update(newcontacts)\n",
    "    print(len(newcontacts.keys()),\"contacts added successfully\")\n",
    "    return\n",
    "newcontacts={'dinesh':123456789}\n",
    "importcontacts(newcontacts)\n",
    "def deletecontact(name):\n",
    "    if name.upper() or name.lower() in contacts:\n",
    "        del contacts[name.lower() or name.upper()]\n",
    "        print(\"deleted\")\n",
    "    else:\n",
    "        print(\"name not found in contacts\")\n",
    "        return \n",
    "deletecontact(\"saTe\")\n",
    "def updateContacts(name,phone):\n",
    "    if name in contacts:\n",
    "        contacts[name]=phone\n",
    "        print(name,\": updated file with new number\")\n",
    "    else:\n",
    "        print(name,\"not exists in contacts\")\n",
    "    return\n",
    "updateContacts(\"Anil\",\"54554545454\")\n",
    "updateContacts(\"harsha\",\"655454545\")"
   ]
  },
  {
   "cell_type": "code",
   "execution_count": 4,
   "metadata": {},
   "outputs": [
    {
     "name": "stdout",
     "output_type": "stream",
     "text": [
      "1 2 3 4 \n"
     ]
    }
   ],
   "source": [
    "lst=[1,2,3,4]\n",
    "print(\"%d %d %d %d \"%(lst[0],lst[1],lst[2],lst[3]))"
   ]
  },
  {
   "cell_type": "code",
   "execution_count": 14,
   "metadata": {},
   "outputs": [
    {
     "name": "stdout",
     "output_type": "stream",
     "text": [
      "value at:1\n",
      "value at:2\n",
      "value at:3\n",
      "value at:4\n"
     ]
    }
   ],
   "source": [
    "lst=[1,2,3,4]\n",
    "for i in range(len(lst)):\n",
    "    print(\"value at:{0}\".format(lst[i]))"
   ]
  },
  {
   "cell_type": "code",
   "execution_count": 15,
   "metadata": {},
   "outputs": [
    {
     "data": {
      "text/plain": [
       "120"
      ]
     },
     "execution_count": 15,
     "metadata": {},
     "output_type": "execute_result"
    }
   ],
   "source": [
    "import math\n",
    "math.factorial(5)"
   ]
  },
  {
   "cell_type": "code",
   "execution_count": 17,
   "metadata": {},
   "outputs": [
    {
     "name": "stdout",
     "output_type": "stream",
     "text": [
      "21 12 9 7 8 18 14 17 19 7 "
     ]
    }
   ],
   "source": [
    "import random\n",
    "def generaterandom(n,lb,ub):\n",
    "    for i in range(0,n):\n",
    "        print(random.randint(lb,ub),end=\" \")\n",
    "    return\n",
    "generaterandom(10,0,25)"
   ]
  },
  {
   "cell_type": "code",
   "execution_count": 19,
   "metadata": {},
   "outputs": [
    {
     "ename": "KeyError",
     "evalue": "('a', 'b')",
     "output_type": "error",
     "traceback": [
      "\u001b[1;31m---------------------------------------------------------------------------\u001b[0m",
      "\u001b[1;31mKeyError\u001b[0m                                  Traceback (most recent call last)",
      "\u001b[1;32m<ipython-input-19-c08130b0d584>\u001b[0m in \u001b[0;36m<module>\u001b[1;34m\u001b[0m\n\u001b[0;32m      1\u001b[0m \u001b[0ma\u001b[0m\u001b[1;33m=\u001b[0m\u001b[1;33m{\u001b[0m\u001b[1;34m'a'\u001b[0m\u001b[1;33m:\u001b[0m\u001b[1;36m1\u001b[0m\u001b[1;33m,\u001b[0m\u001b[1;34m'b'\u001b[0m\u001b[1;33m:\u001b[0m\u001b[1;36m2\u001b[0m\u001b[1;33m,\u001b[0m\u001b[1;34m'c'\u001b[0m\u001b[1;33m:\u001b[0m\u001b[1;36m3\u001b[0m\u001b[1;33m}\u001b[0m\u001b[1;33m\u001b[0m\u001b[1;33m\u001b[0m\u001b[0m\n\u001b[1;32m----> 2\u001b[1;33m \u001b[0mprint\u001b[0m\u001b[1;33m(\u001b[0m\u001b[0ma\u001b[0m\u001b[1;33m[\u001b[0m\u001b[1;34m'a'\u001b[0m\u001b[1;33m,\u001b[0m\u001b[1;34m'b'\u001b[0m\u001b[1;33m]\u001b[0m\u001b[1;33m)\u001b[0m\u001b[1;33m\u001b[0m\u001b[1;33m\u001b[0m\u001b[0m\n\u001b[0m",
      "\u001b[1;31mKeyError\u001b[0m: ('a', 'b')"
     ]
    }
   ],
   "source": [
    "a={'a':1,'b':2,'c':3}\n",
    "print(a['a','b'])"
   ]
  },
  {
   "cell_type": "code",
   "execution_count": 20,
   "metadata": {},
   "outputs": [
    {
     "name": "stdout",
     "output_type": "stream",
     "text": [
      "dict_keys(['john', 'peter'])\n"
     ]
    }
   ],
   "source": [
    "d={\"john\":40,\"peter\":45}\n",
    "print(d.keys())"
   ]
  },
  {
   "cell_type": "code",
   "execution_count": null,
   "metadata": {},
   "outputs": [],
   "source": []
  }
 ],
 "metadata": {
  "kernelspec": {
   "display_name": "Python 3",
   "language": "python",
   "name": "python3"
  },
  "language_info": {
   "codemirror_mode": {
    "name": "ipython",
    "version": 3
   },
   "file_extension": ".py",
   "mimetype": "text/x-python",
   "name": "python",
   "nbconvert_exporter": "python",
   "pygments_lexer": "ipython3",
   "version": "3.7.3"
  }
 },
 "nbformat": 4,
 "nbformat_minor": 2
}
